{
 "cells": [
  {
   "cell_type": "markdown",
   "metadata": {},
   "source": [
    "# 斐波那契数列："
   ]
  },
  {
   "cell_type": "markdown",
   "metadata": {},
   "source": [
    "## 方法1：递归"
   ]
  },
  {
   "cell_type": "code",
   "execution_count": null,
   "metadata": {},
   "outputs": [],
   "source": [
    "def fib(n):\n",
    "    if n==0:\n",
    "        return 0\n",
    "    if n==1:\n",
    "        return 1\n",
    "    return fib(n-1) + fib(n-2)"
   ]
  },
  {
   "cell_type": "markdown",
   "metadata": {},
   "source": [
    "## 方法2：减少时间复杂度"
   ]
  },
  {
   "cell_type": "markdown",
   "metadata": {},
   "source": [
    "考虑到在计算\n",
    "fib(n) = fib(n-1) + fib(n-2)\n",
    "的过程中，需要计算fib(n-1)，也就是\n",
    "fib(n-1) =f ib(n-2) + fib(n-3)\n",
    "在整个过程中fib(n-2)被计算了两次，一次在求fib(n)，一次在求fib(n-1).\n",
    "为了降低该时间复杂度，采用空间换时间，把每一次的结果通过数组记录下来，我们直接从数组中以时间复杂度O(1)来调取fib(n-1)和fib(n-2)\n",
    "我们定义一个数组dp[n]，其中dp[i]代表了fib(i)\n",
    "然后令\n",
    "dp[0]=0\n",
    "dp[1]=1\n",
    "dp[i]=dp[i-1]+dp[i-2]\n",
    "使用for循环n次，再返回dp[n]"
   ]
  },
  {
   "cell_type": "code",
   "execution_count": null,
   "metadata": {},
   "outputs": [],
   "source": [
    "def fib(self, n: int) -> int:\n",
    "    if n==0:\n",
    "        return 0\n",
    "    if n==1:\n",
    "        return 1\n",
    "    dp=[0]*(n+1)\n",
    "    dp[1]=1\n",
    "    for i in range(2,n+1):\n",
    "        dp[i]=dp[i-2]+dp[i-1]\n",
    "    return dp[n]"
   ]
  },
  {
   "cell_type": "markdown",
   "metadata": {},
   "source": [
    "## 方法3：降低空间复杂度"
   ]
  },
  {
   "cell_type": "markdown",
   "metadata": {},
   "source": [
    "考虑到在方法2中，每次循环只用到了前面两项的和，我们不需要把每一个fib(i)都记录下来，只需要保存连个变量即可。"
   ]
  },
  {
   "cell_type": "code",
   "execution_count": null,
   "metadata": {},
   "outputs": [],
   "source": [
    "def fib(n):\n",
    "    if n==0:\n",
    "        return 0\n",
    "    a=0\n",
    "    b=1\n",
    "    for i in range(n-1):\n",
    "        a,b=b,a+b        \n",
    "    return b"
   ]
  }
 ],
 "metadata": {
  "kernelspec": {
   "display_name": "Python 3",
   "language": "python",
   "name": "python3"
  },
  "language_info": {
   "codemirror_mode": {
    "name": "ipython",
    "version": 3
   },
   "file_extension": ".py",
   "mimetype": "text/x-python",
   "name": "python",
   "nbconvert_exporter": "python",
   "pygments_lexer": "ipython3",
   "version": "3.8.5"
  }
 },
 "nbformat": 4,
 "nbformat_minor": 4
}
